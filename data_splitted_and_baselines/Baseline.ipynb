{
 "cells": [
  {
   "cell_type": "code",
   "execution_count": 420,
   "id": "485655b0",
   "metadata": {},
   "outputs": [],
   "source": [
    "import numpy as np\n",
    "import pandas as pd\n",
    "import matplotlib.pyplot as plt\n",
    "from collections import Counter"
   ]
  },
  {
   "cell_type": "code",
   "execution_count": 421,
   "id": "f61a5ba7",
   "metadata": {},
   "outputs": [],
   "source": [
    "test = pd.read_csv('data/test.csv')\n",
    "train = pd.read_csv('data/hist_data.csv')"
   ]
  },
  {
   "cell_type": "code",
   "execution_count": 422,
   "id": "52bbec6d",
   "metadata": {},
   "outputs": [
    {
     "data": {
      "text/html": [
       "<div>\n",
       "<style scoped>\n",
       "    .dataframe tbody tr th:only-of-type {\n",
       "        vertical-align: middle;\n",
       "    }\n",
       "\n",
       "    .dataframe tbody tr th {\n",
       "        vertical-align: top;\n",
       "    }\n",
       "\n",
       "    .dataframe thead th {\n",
       "        text-align: right;\n",
       "    }\n",
       "</style>\n",
       "<table border=\"1\" class=\"dataframe\">\n",
       "  <thead>\n",
       "    <tr style=\"text-align: right;\">\n",
       "      <th></th>\n",
       "      <th>buyer_id</th>\n",
       "      <th>pav_order_id</th>\n",
       "      <th>created</th>\n",
       "      <th>item_id</th>\n",
       "      <th>count</th>\n",
       "      <th>price_sold</th>\n",
       "      <th>flag_weight_goods</th>\n",
       "      <th>weight</th>\n",
       "    </tr>\n",
       "  </thead>\n",
       "  <tbody>\n",
       "    <tr>\n",
       "      <th>0</th>\n",
       "      <td>95203091</td>\n",
       "      <td>98506637863</td>\n",
       "      <td>2021-07-01 00:03:44</td>\n",
       "      <td>202808329</td>\n",
       "      <td>1.000</td>\n",
       "      <td>79.990</td>\n",
       "      <td>False</td>\n",
       "      <td>11.14</td>\n",
       "    </tr>\n",
       "    <tr>\n",
       "      <th>1</th>\n",
       "      <td>95203091</td>\n",
       "      <td>98506637863</td>\n",
       "      <td>2021-07-01 00:03:44</td>\n",
       "      <td>202953905</td>\n",
       "      <td>1.072</td>\n",
       "      <td>44.945</td>\n",
       "      <td>True</td>\n",
       "      <td>11.14</td>\n",
       "    </tr>\n",
       "    <tr>\n",
       "      <th>2</th>\n",
       "      <td>95203091</td>\n",
       "      <td>98506637863</td>\n",
       "      <td>2021-07-01 00:03:44</td>\n",
       "      <td>203566452</td>\n",
       "      <td>1.000</td>\n",
       "      <td>69.990</td>\n",
       "      <td>False</td>\n",
       "      <td>11.14</td>\n",
       "    </tr>\n",
       "    <tr>\n",
       "      <th>3</th>\n",
       "      <td>95203091</td>\n",
       "      <td>98506637863</td>\n",
       "      <td>2021-07-01 00:03:44</td>\n",
       "      <td>202820143</td>\n",
       "      <td>1.972</td>\n",
       "      <td>41.295</td>\n",
       "      <td>True</td>\n",
       "      <td>11.14</td>\n",
       "    </tr>\n",
       "    <tr>\n",
       "      <th>4</th>\n",
       "      <td>95203091</td>\n",
       "      <td>98506637863</td>\n",
       "      <td>2021-07-01 00:03:44</td>\n",
       "      <td>204400422</td>\n",
       "      <td>1.000</td>\n",
       "      <td>269.990</td>\n",
       "      <td>False</td>\n",
       "      <td>11.14</td>\n",
       "    </tr>\n",
       "  </tbody>\n",
       "</table>\n",
       "</div>"
      ],
      "text/plain": [
       "   buyer_id  pav_order_id              created    item_id  count  price_sold  \\\n",
       "0  95203091   98506637863  2021-07-01 00:03:44  202808329  1.000      79.990   \n",
       "1  95203091   98506637863  2021-07-01 00:03:44  202953905  1.072      44.945   \n",
       "2  95203091   98506637863  2021-07-01 00:03:44  203566452  1.000      69.990   \n",
       "3  95203091   98506637863  2021-07-01 00:03:44  202820143  1.972      41.295   \n",
       "4  95203091   98506637863  2021-07-01 00:03:44  204400422  1.000     269.990   \n",
       "\n",
       "   flag_weight_goods  weight  \n",
       "0              False   11.14  \n",
       "1               True   11.14  \n",
       "2              False   11.14  \n",
       "3               True   11.14  \n",
       "4              False   11.14  "
      ]
     },
     "execution_count": 422,
     "metadata": {},
     "output_type": "execute_result"
    }
   ],
   "source": [
    "hist_data.head()"
   ]
  },
  {
   "cell_type": "code",
   "execution_count": 423,
   "id": "6709b76f",
   "metadata": {},
   "outputs": [],
   "source": [
    "morning_orders, day_orders, evening_orders = 0, 0, 0"
   ]
  },
  {
   "cell_type": "code",
   "execution_count": null,
   "id": "af46d9ac",
   "metadata": {},
   "outputs": [],
   "source": []
  },
  {
   "cell_type": "code",
   "execution_count": null,
   "id": "eb3b8afe",
   "metadata": {},
   "outputs": [],
   "source": []
  },
  {
   "cell_type": "code",
   "execution_count": 424,
   "id": "3ef02bd0",
   "metadata": {},
   "outputs": [
    {
     "name": "stdout",
     "output_type": "stream",
     "text": [
      "<class 'pandas.core.frame.DataFrame'>\n",
      "RangeIndex: 4529889 entries, 0 to 4529888\n",
      "Data columns (total 8 columns):\n",
      " #   Column             Dtype  \n",
      "---  ------             -----  \n",
      " 0   buyer_id           int64  \n",
      " 1   pav_order_id       int64  \n",
      " 2   created            object \n",
      " 3   item_id            int64  \n",
      " 4   count              float64\n",
      " 5   price_sold         float64\n",
      " 6   flag_weight_goods  bool   \n",
      " 7   weight             float64\n",
      "dtypes: bool(1), float64(3), int64(3), object(1)\n",
      "memory usage: 246.2+ MB\n"
     ]
    }
   ],
   "source": [
    "train.info()"
   ]
  },
  {
   "cell_type": "code",
   "execution_count": null,
   "id": "1088cb29",
   "metadata": {},
   "outputs": [],
   "source": []
  },
  {
   "cell_type": "code",
   "execution_count": 425,
   "id": "62af51b4",
   "metadata": {},
   "outputs": [
    {
     "name": "stdout",
     "output_type": "stream",
     "text": [
      "              total        used        free      shared  buff/cache   available\r\n",
      "Mem:            503         301         176           0          25         199\r\n",
      "Swap:             7           7           0\r\n"
     ]
    }
   ],
   "source": [
    "!free -g"
   ]
  },
  {
   "cell_type": "code",
   "execution_count": 426,
   "id": "4984bb3e",
   "metadata": {},
   "outputs": [
    {
     "data": {
      "text/html": [
       "<div>\n",
       "<style scoped>\n",
       "    .dataframe tbody tr th:only-of-type {\n",
       "        vertical-align: middle;\n",
       "    }\n",
       "\n",
       "    .dataframe tbody tr th {\n",
       "        vertical-align: top;\n",
       "    }\n",
       "\n",
       "    .dataframe thead th {\n",
       "        text-align: right;\n",
       "    }\n",
       "</style>\n",
       "<table border=\"1\" class=\"dataframe\">\n",
       "  <thead>\n",
       "    <tr style=\"text-align: right;\">\n",
       "      <th></th>\n",
       "      <th>buyer_id</th>\n",
       "      <th>pav_order_id</th>\n",
       "      <th>created</th>\n",
       "      <th>item_id</th>\n",
       "      <th>count</th>\n",
       "      <th>price_sold</th>\n",
       "      <th>flag_weight_goods</th>\n",
       "      <th>weight</th>\n",
       "    </tr>\n",
       "  </thead>\n",
       "  <tbody>\n",
       "    <tr>\n",
       "      <th>0</th>\n",
       "      <td>95203091</td>\n",
       "      <td>98506637863</td>\n",
       "      <td>2021-07-01 00:03:44</td>\n",
       "      <td>202808329</td>\n",
       "      <td>1.000</td>\n",
       "      <td>79.990</td>\n",
       "      <td>False</td>\n",
       "      <td>11.14</td>\n",
       "    </tr>\n",
       "    <tr>\n",
       "      <th>1</th>\n",
       "      <td>95203091</td>\n",
       "      <td>98506637863</td>\n",
       "      <td>2021-07-01 00:03:44</td>\n",
       "      <td>202953905</td>\n",
       "      <td>1.072</td>\n",
       "      <td>44.945</td>\n",
       "      <td>True</td>\n",
       "      <td>11.14</td>\n",
       "    </tr>\n",
       "    <tr>\n",
       "      <th>2</th>\n",
       "      <td>95203091</td>\n",
       "      <td>98506637863</td>\n",
       "      <td>2021-07-01 00:03:44</td>\n",
       "      <td>203566452</td>\n",
       "      <td>1.000</td>\n",
       "      <td>69.990</td>\n",
       "      <td>False</td>\n",
       "      <td>11.14</td>\n",
       "    </tr>\n",
       "    <tr>\n",
       "      <th>3</th>\n",
       "      <td>95203091</td>\n",
       "      <td>98506637863</td>\n",
       "      <td>2021-07-01 00:03:44</td>\n",
       "      <td>202820143</td>\n",
       "      <td>1.972</td>\n",
       "      <td>41.295</td>\n",
       "      <td>True</td>\n",
       "      <td>11.14</td>\n",
       "    </tr>\n",
       "    <tr>\n",
       "      <th>4</th>\n",
       "      <td>95203091</td>\n",
       "      <td>98506637863</td>\n",
       "      <td>2021-07-01 00:03:44</td>\n",
       "      <td>204400422</td>\n",
       "      <td>1.000</td>\n",
       "      <td>269.990</td>\n",
       "      <td>False</td>\n",
       "      <td>11.14</td>\n",
       "    </tr>\n",
       "  </tbody>\n",
       "</table>\n",
       "</div>"
      ],
      "text/plain": [
       "   buyer_id  pav_order_id              created    item_id  count  price_sold  \\\n",
       "0  95203091   98506637863  2021-07-01 00:03:44  202808329  1.000      79.990   \n",
       "1  95203091   98506637863  2021-07-01 00:03:44  202953905  1.072      44.945   \n",
       "2  95203091   98506637863  2021-07-01 00:03:44  203566452  1.000      69.990   \n",
       "3  95203091   98506637863  2021-07-01 00:03:44  202820143  1.972      41.295   \n",
       "4  95203091   98506637863  2021-07-01 00:03:44  204400422  1.000     269.990   \n",
       "\n",
       "   flag_weight_goods  weight  \n",
       "0              False   11.14  \n",
       "1               True   11.14  \n",
       "2              False   11.14  \n",
       "3               True   11.14  \n",
       "4              False   11.14  "
      ]
     },
     "execution_count": 426,
     "metadata": {},
     "output_type": "execute_result"
    }
   ],
   "source": [
    "train.head()"
   ]
  },
  {
   "cell_type": "code",
   "execution_count": 427,
   "id": "db467027",
   "metadata": {},
   "outputs": [
    {
     "data": {
      "text/plain": [
       "buyer_id\n",
       "94578442    [202979560, 203438161, 203529348, 203457496, 2...\n",
       "94578475    [203114041, 202820148, 203884509, 202791192, 2...\n",
       "94578533    [203446790, 202809628, 202864758, 202872237, 2...\n",
       "94578595    [202801849, 202799674, 202806977, 202997601, 2...\n",
       "94578656    [202838754, 202872237, 202910396, 202820148, 2...\n",
       "Name: item_id, dtype: object"
      ]
     },
     "execution_count": 427,
     "metadata": {},
     "output_type": "execute_result"
    }
   ],
   "source": [
    "popular_by_user = train.groupby('buyer_id')['item_id'].agg(lambda x: [x[0] for x in Counter(x).most_common(20)])\n",
    "popular_by_user.head(5)"
   ]
  },
  {
   "cell_type": "code",
   "execution_count": 428,
   "id": "c7f22c41",
   "metadata": {},
   "outputs": [
    {
     "data": {
      "text/plain": [
       "63925"
      ]
     },
     "execution_count": 428,
     "metadata": {},
     "output_type": "execute_result"
    }
   ],
   "source": [
    "known_users = (set(train['buyer_id']) & set(test['buyer_id']))\n",
    "len(known_users)"
   ]
  },
  {
   "cell_type": "code",
   "execution_count": 429,
   "id": "35c600b7",
   "metadata": {},
   "outputs": [
    {
     "data": {
      "text/plain": [
       "80244"
      ]
     },
     "execution_count": 429,
     "metadata": {},
     "output_type": "execute_result"
    }
   ],
   "source": [
    "len(test['buyer_id'].unique())"
   ]
  },
  {
   "cell_type": "code",
   "execution_count": 430,
   "id": "dc728cf9",
   "metadata": {},
   "outputs": [
    {
     "data": {
      "text/plain": [
       "True"
      ]
     },
     "execution_count": 430,
     "metadata": {},
     "output_type": "execute_result"
    }
   ],
   "source": [
    "order_by_user = test.groupby('pav_order_id')['buyer_id'].apply(lambda x: list(x)[0])\n",
    "len(order_by_user) == len(test['pav_order_id'].unique())"
   ]
  },
  {
   "cell_type": "code",
   "execution_count": 431,
   "id": "75f667d0",
   "metadata": {},
   "outputs": [],
   "source": [
    "pred = pd.read_csv('data/sample_sab_inverse_after5_true.csv',\n",
    "                   index_col=0,\n",
    "                   converters={\"preds\": lambda x: x.strip(\"[]\").replace(\"'\",\"\").split(\", \")})"
   ]
  },
  {
   "cell_type": "code",
   "execution_count": 432,
   "id": "bc8d0d74",
   "metadata": {},
   "outputs": [],
   "source": [
    "pred['preds'] = pred['preds'].apply(lambda x: [int(i) for i in x])"
   ]
  },
  {
   "cell_type": "code",
   "execution_count": 433,
   "id": "793c9fb8",
   "metadata": {},
   "outputs": [],
   "source": [
    "# [i for i in pred['preds']]"
   ]
  },
  {
   "cell_type": "code",
   "execution_count": 434,
   "id": "16bf067a",
   "metadata": {},
   "outputs": [
    {
     "data": {
      "text/html": [
       "<div>\n",
       "<style scoped>\n",
       "    .dataframe tbody tr th:only-of-type {\n",
       "        vertical-align: middle;\n",
       "    }\n",
       "\n",
       "    .dataframe tbody tr th {\n",
       "        vertical-align: top;\n",
       "    }\n",
       "\n",
       "    .dataframe thead th {\n",
       "        text-align: right;\n",
       "    }\n",
       "</style>\n",
       "<table border=\"1\" class=\"dataframe\">\n",
       "  <thead>\n",
       "    <tr style=\"text-align: right;\">\n",
       "      <th></th>\n",
       "      <th>preds</th>\n",
       "      <th>buyer_id</th>\n",
       "    </tr>\n",
       "    <tr>\n",
       "      <th>pav_order_id</th>\n",
       "      <th></th>\n",
       "      <th></th>\n",
       "    </tr>\n",
       "  </thead>\n",
       "  <tbody>\n",
       "    <tr>\n",
       "      <th>4620121489</th>\n",
       "      <td>[202820148, 202872237, 202791620, 202809628, 2...</td>\n",
       "      <td>95969605</td>\n",
       "    </tr>\n",
       "    <tr>\n",
       "      <th>4620121505</th>\n",
       "      <td>[202820148, 202872237, 202880262, 203068900, 2...</td>\n",
       "      <td>95823859</td>\n",
       "    </tr>\n",
       "    <tr>\n",
       "      <th>4620121594</th>\n",
       "      <td>[202820148, 202872237, 203059303, 202809628, 2...</td>\n",
       "      <td>95487550</td>\n",
       "    </tr>\n",
       "    <tr>\n",
       "      <th>4620121684</th>\n",
       "      <td>[202820148, 202872237, 203090014, 203090010, 2...</td>\n",
       "      <td>95970193</td>\n",
       "    </tr>\n",
       "    <tr>\n",
       "      <th>4620121902</th>\n",
       "      <td>[202820148, 203422957, 203431923, 202872237, 2...</td>\n",
       "      <td>95803805</td>\n",
       "    </tr>\n",
       "  </tbody>\n",
       "</table>\n",
       "</div>"
      ],
      "text/plain": [
       "                                                          preds  buyer_id\n",
       "pav_order_id                                                             \n",
       "4620121489    [202820148, 202872237, 202791620, 202809628, 2...  95969605\n",
       "4620121505    [202820148, 202872237, 202880262, 203068900, 2...  95823859\n",
       "4620121594    [202820148, 202872237, 203059303, 202809628, 2...  95487550\n",
       "4620121684    [202820148, 202872237, 203090014, 203090010, 2...  95970193\n",
       "4620121902    [202820148, 203422957, 203431923, 202872237, 2...  95803805"
      ]
     },
     "execution_count": 434,
     "metadata": {},
     "output_type": "execute_result"
    }
   ],
   "source": [
    "pred['buyer_id'] = order_by_user[pred.index]\n",
    "pred.head()"
   ]
  },
  {
   "cell_type": "code",
   "execution_count": 435,
   "id": "9b934242",
   "metadata": {},
   "outputs": [
    {
     "data": {
      "text/plain": [
       "[202979560]"
      ]
     },
     "execution_count": 435,
     "metadata": {},
     "output_type": "execute_result"
    }
   ],
   "source": [
    "popular_by_user.iloc[0][:1]"
   ]
  },
  {
   "cell_type": "code",
   "execution_count": 441,
   "id": "44fa9f97",
   "metadata": {},
   "outputs": [],
   "source": [
    "def modify_row(row, k=5, m=5):\n",
    "  if row['buyer_id'] in known_users:\n",
    "    row['preds'] = row['preds'][:5] + row['preds'][5::-1]\n",
    "    row['preds'] = row['preds'][:m] + row['preds'][m::-1]\n",
    "    row['preds'] = set(popular_by_user[row['buyer_id']][:k] + (row['preds'])[:-k])\n",
    "    row['preds'] = (list(row['preds']) + popular_by_user[row['buyer_id']][k:])[:20]\n",
    "  return row"
   ]
  },
  {
   "cell_type": "code",
   "execution_count": 442,
   "id": "236a1b3d",
   "metadata": {},
   "outputs": [
    {
     "data": {
      "text/html": [
       "<div>\n",
       "<style scoped>\n",
       "    .dataframe tbody tr th:only-of-type {\n",
       "        vertical-align: middle;\n",
       "    }\n",
       "\n",
       "    .dataframe tbody tr th {\n",
       "        vertical-align: top;\n",
       "    }\n",
       "\n",
       "    .dataframe thead th {\n",
       "        text-align: right;\n",
       "    }\n",
       "</style>\n",
       "<table border=\"1\" class=\"dataframe\">\n",
       "  <thead>\n",
       "    <tr style=\"text-align: right;\">\n",
       "      <th></th>\n",
       "      <th>preds</th>\n",
       "    </tr>\n",
       "    <tr>\n",
       "      <th>pav_order_id</th>\n",
       "      <th></th>\n",
       "    </tr>\n",
       "  </thead>\n",
       "  <tbody>\n",
       "    <tr>\n",
       "      <th>4620121489</th>\n",
       "      <td>[202820148, 202872237, 202791620, 202809628, 2...</td>\n",
       "    </tr>\n",
       "    <tr>\n",
       "      <th>4620121505</th>\n",
       "      <td>[202820148, 202872237, 202880262, 203068900, 2...</td>\n",
       "    </tr>\n",
       "    <tr>\n",
       "      <th>4620121594</th>\n",
       "      <td>[202820148, 202872237, 203059303, 202809628, 2...</td>\n",
       "    </tr>\n",
       "    <tr>\n",
       "      <th>4620121684</th>\n",
       "      <td>[202820148, 202872237, 203090014, 203090010, 2...</td>\n",
       "    </tr>\n",
       "    <tr>\n",
       "      <th>4620121902</th>\n",
       "      <td>[202820148, 203422957, 203431923, 202872237, 2...</td>\n",
       "    </tr>\n",
       "  </tbody>\n",
       "</table>\n",
       "</div>"
      ],
      "text/plain": [
       "                                                          preds\n",
       "pav_order_id                                                   \n",
       "4620121489    [202820148, 202872237, 202791620, 202809628, 2...\n",
       "4620121505    [202820148, 202872237, 202880262, 203068900, 2...\n",
       "4620121594    [202820148, 202872237, 203059303, 202809628, 2...\n",
       "4620121684    [202820148, 202872237, 203090014, 203090010, 2...\n",
       "4620121902    [202820148, 203422957, 203431923, 202872237, 2..."
      ]
     },
     "execution_count": 442,
     "metadata": {},
     "output_type": "execute_result"
    }
   ],
   "source": [
    "new_pred = pred.apply(modify_row, axis=1)\n",
    "new_pred.drop(['buyer_id'], axis=1, inplace=True)\n",
    "new_pred.head()"
   ]
  },
  {
   "cell_type": "code",
   "execution_count": null,
   "id": "7cea8011",
   "metadata": {},
   "outputs": [],
   "source": [
    "# new_pred.drop(['basket'], axis=1, inplace=True)"
   ]
  },
  {
   "cell_type": "code",
   "execution_count": 443,
   "id": "718aded4",
   "metadata": {},
   "outputs": [
    {
     "data": {
      "text/plain": [
       "20"
      ]
     },
     "execution_count": 443,
     "metadata": {},
     "output_type": "execute_result"
    }
   ],
   "source": [
    "new_pred['preds'].apply(len).max()"
   ]
  },
  {
   "cell_type": "code",
   "execution_count": 444,
   "id": "8cdd0482",
   "metadata": {},
   "outputs": [],
   "source": [
    "new_pred['preds'].to_csv('data/fixed_v30.csv')"
   ]
  },
  {
   "cell_type": "code",
   "execution_count": 68,
   "id": "5215444f",
   "metadata": {},
   "outputs": [],
   "source": [
    "# Пример решения с использованием статистического подхода - подсчет \n",
    "# совстречаемостей.\n",
    "\n",
    "import pandas as pd\n",
    "import numpy as np\n",
    "import gc\n",
    "\n",
    "from collections import Counter \n",
    "\n",
    "hist_data = pd.read_csv('data/hist_data.csv')\n",
    "\n",
    "# соберем словарь встречаемостей - какие item_id покупались чаще с \n",
    "# каждым item_id \n",
    "tmp = (\n",
    "    hist_data[['item_id', 'pav_order_id']]\n",
    "    .sort_values(['item_id', 'pav_order_id'])\n",
    "    .merge(hist_data[['item_id', 'pav_order_id']], how='left', on=['pav_order_id'], suffixes=('', '_left'))\n",
    ")\n",
    "tmp = tmp[tmp['item_id'] != tmp['item_id_left']].copy()\n",
    "tmp1 = tmp.groupby(['item_id'])['item_id_left'].agg(lambda x: Counter(x).most_common(10))\n",
    "\n",
    "most_freq_dict = {k: v for (k, v) in tmp1.iteritems()}\n",
    "\n",
    "del tmp1, tmp\n",
    "gc.collect()\n",
    "\n",
    "test = pd.read_csv('data/test.csv')\n",
    "\n",
    "# из списка кандидатов по совстречаемости удаляем повторяющиеся item_id, \n",
    "# сохраняя порядок\n",
    "def get_unique_recs(recs: list, top_n: int) -> list:\n",
    "    rec_dict = {}\n",
    "    counter = 0\n",
    "    for k, v in recs:\n",
    "        if k not in rec_dict:\n",
    "            rec_dict[k] = v\n",
    "            counter += 1\n",
    "        if counter == top_n:\n",
    "            break\n",
    "    return list(rec_dict.keys())\n",
    "\n",
    "def rec_by_item(item_id: int, most_freq_dict: dict) -> list:\n",
    "    \n",
    "    return most_freq_dict.get(item_id, None)\n",
    "\n",
    "# для каждого item_id соберем top_n самых часто встречающихся item_id, \n",
    "# отсортируем по частоте и выберем уникальные\n",
    "def rec_by_basket(basket: list, most_freq_dict: dict, top_n: int = 20) -> list:\n",
    "    \n",
    "    res = []\n",
    "    for item in basket:\n",
    "        recs = rec_by_item(item, most_freq_dict)\n",
    "        if recs is not None:\n",
    "            res += recs\n",
    "    \n",
    "    res = sorted(res, key=lambda x: x[1], reverse=True)\n",
    "    \n",
    "    return get_unique_recs(res, top_n)\n",
    "\n",
    "pred = test.groupby(['pav_order_id'])['item_id'].agg([('basket', list)])\n",
    "pred['preds'] = pred['basket'].map(lambda x: rec_by_basket(x, most_freq_dict=most_freq_dict))\n",
    "# pred['preds'] =[i[:5] + i[5:][::-1] for i in pred['preds']]\n",
    "\n",
    "# pred['preds'].to_csv('sample_sab_inverse_after5.csv')"
   ]
  },
  {
   "cell_type": "code",
   "execution_count": null,
   "id": "aaee13c8",
   "metadata": {},
   "outputs": [],
   "source": []
  },
  {
   "cell_type": "code",
   "execution_count": null,
   "id": "db9ac667",
   "metadata": {},
   "outputs": [],
   "source": [
    "\n"
   ]
  }
 ],
 "metadata": {
  "kernelspec": {
   "display_name": "Python 3 (ipykernel)",
   "language": "python",
   "name": "python3"
  },
  "language_info": {
   "codemirror_mode": {
    "name": "ipython",
    "version": 3
   },
   "file_extension": ".py",
   "mimetype": "text/x-python",
   "name": "python",
   "nbconvert_exporter": "python",
   "pygments_lexer": "ipython3",
   "version": "3.8.10"
  }
 },
 "nbformat": 4,
 "nbformat_minor": 5
}
