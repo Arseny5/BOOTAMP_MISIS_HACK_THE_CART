{
 "cells": [
  {
   "cell_type": "code",
   "execution_count": 1,
   "id": "11813ba0-5a56-4f88-97ef-edf2e07baac7",
   "metadata": {},
   "outputs": [],
   "source": [
    "import pandas as pd\n",
    "import numpy as np"
   ]
  },
  {
   "cell_type": "code",
   "execution_count": 2,
   "id": "e9527587-8c0c-4081-9646-d20c0280c686",
   "metadata": {},
   "outputs": [],
   "source": [
    "from pyspark.sql import functions as sf\n",
    "\n",
    "from replay.session_handler import State, get_spark_session\n",
    "from replay.experiment import Experiment\n",
    "from replay.metrics import Recall, NDCG, MAP\n",
    "from replay.models import KNN, PopRec\n",
    "from replay.utils import get_log_info"
   ]
  },
  {
   "cell_type": "code",
   "execution_count": 3,
   "id": "098dc172-a8d6-42cd-a069-6fe96d3d2f1c",
   "metadata": {},
   "outputs": [
    {
     "name": "stderr",
     "output_type": "stream",
     "text": [
      "22/03/27 11:09:27 WARN Utils: Your hostname, trans4rec resolves to a loopback address: 127.0.1.1; using 192.168.1.13 instead (on interface ens160)\n",
      "22/03/27 11:09:27 WARN Utils: Set SPARK_LOCAL_IP if you need to bind to another address\n",
      "22/03/27 11:09:27 WARN NativeCodeLoader: Unable to load native-hadoop library for your platform... using builtin-java classes where applicable\n",
      "Using Spark's default log4j profile: org/apache/spark/log4j-defaults.properties\n",
      "Setting default log level to \"WARN\".\n",
      "To adjust logging level use sc.setLogLevel(newLevel). For SparkR, use setLogLevel(newLevel).\n",
      "22/03/27 11:09:28 WARN SparkConf: Note that spark.local.dir will be overridden by the value set by the cluster manager (via SPARK_LOCAL_DIRS in mesos/standalone/kubernetes and LOCAL_DIRS in YARN).\n",
      "22/03/27 11:09:28 WARN Utils: Service 'SparkUI' could not bind on port 4040. Attempting port 4041.\n",
      "22/03/27 11:09:28 WARN Utils: Service 'SparkUI' could not bind on port 4041. Attempting port 4042.\n"
     ]
    },
    {
     "data": {
      "text/html": [
       "\n",
       "            <div>\n",
       "                <p><b>SparkSession - hive</b></p>\n",
       "                \n",
       "        <div>\n",
       "            <p><b>SparkContext</b></p>\n",
       "\n",
       "            <p><a href=\"http://localhost:4042\">Spark UI</a></p>\n",
       "\n",
       "            <dl>\n",
       "              <dt>Version</dt>\n",
       "                <dd><code>v3.0.3</code></dd>\n",
       "              <dt>Master</dt>\n",
       "                <dd><code>local[*]</code></dd>\n",
       "              <dt>AppName</dt>\n",
       "                <dd><code>pyspark-shell</code></dd>\n",
       "            </dl>\n",
       "        </div>\n",
       "        \n",
       "            </div>\n",
       "        "
      ],
      "text/plain": [
       "<pyspark.sql.session.SparkSession at 0x7f7dda938400>"
      ]
     },
     "execution_count": 3,
     "metadata": {},
     "output_type": "execute_result"
    }
   ],
   "source": [
    "session = get_spark_session(spark_memory=300)\n",
    "spark = State(session).session\n",
    "spark"
   ]
  },
  {
   "cell_type": "markdown",
   "id": "d0a32228-b7be-4f43-9a52-244bc9a78d69",
   "metadata": {},
   "source": [
    "### Предобработка данных"
   ]
  },
  {
   "cell_type": "code",
   "execution_count": 4,
   "id": "a8df02a9-9801-47d4-951a-259cd2840d87",
   "metadata": {},
   "outputs": [],
   "source": [
    "train = pd.read_csv('./data/hist_data.csv').sort_values(['buyer_id', 'created'])"
   ]
  },
  {
   "cell_type": "code",
   "execution_count": 5,
   "id": "49a9b179-384e-453a-a134-4a0d5ae31a84",
   "metadata": {},
   "outputs": [],
   "source": [
    "def get_last_session(x):\n",
    "    ind = x['pav_order_id'].drop_duplicates().index\n",
    "    return x.loc[ind, 'pav_order_id'].values[-1]\n",
    "\n",
    "res = train.groupby('buyer_id').apply(get_last_session)"
   ]
  },
  {
   "cell_type": "code",
   "execution_count": 6,
   "id": "0963f9a8-6c0f-44b4-8680-3a3cb485cffb",
   "metadata": {},
   "outputs": [],
   "source": [
    "X_train = train.loc[~train.pav_order_id.isin(res.values)].copy()\n",
    "val = train.loc[train.pav_order_id.isin(res.values)].copy()\n",
    "val.loc[:, 'weight'] = None"
   ]
  },
  {
   "cell_type": "code",
   "execution_count": 7,
   "id": "213ead4c-b0e8-4041-bca1-e9ded8b34a10",
   "metadata": {},
   "outputs": [],
   "source": [
    "X_train.reset_index(drop=True, inplace=True)\n",
    "val.reset_index(drop=True, inplace=True)"
   ]
  },
  {
   "cell_type": "code",
   "execution_count": 8,
   "id": "849731d4-68af-440e-99e8-2fdfeb952add",
   "metadata": {},
   "outputs": [],
   "source": [
    "np.random.seed(0)\n",
    "\n",
    "val_shuffled = val.sample(frac=1, random_state=0)\n",
    "def get_eval_ind(x): \n",
    "    num_to_get = int(len(x) * 0.3)\n",
    "    ind = np.random.choice(x.index, size=num_to_get, replace=False)\n",
    "    return pd.Series(ind, name='index')\n",
    "\n",
    "target_index = val_shuffled.groupby('pav_order_id').apply(get_eval_ind).values"
   ]
  },
  {
   "cell_type": "code",
   "execution_count": 9,
   "id": "0db5d51b-16f8-48cb-b7b9-3971b19b98f8",
   "metadata": {},
   "outputs": [],
   "source": [
    "X_val = val.loc[target_index].sort_values(['buyer_id', 'created']).reset_index(drop=True)\n",
    "y_val = val.loc[~val.index.isin(target_index)].sort_values(['buyer_id', 'created']).reset_index(drop=True)"
   ]
  },
  {
   "cell_type": "code",
   "execution_count": 10,
   "id": "2484c3b2-0445-4bfd-9ad7-49fc603576ba",
   "metadata": {},
   "outputs": [],
   "source": [
    "X_train.to_csv('./data/X_train.csv', index=False)\n",
    "X_val.to_csv('./data/X_val.csv', index=False)\n",
    "y_val.to_csv('./data/y_val.csv', index=False)"
   ]
  },
  {
   "cell_type": "code",
   "execution_count": 13,
   "id": "e162805b-7a56-4c31-b312-52c8ff64de61",
   "metadata": {},
   "outputs": [],
   "source": [
    "data_path = \"./data/\""
   ]
  },
  {
   "cell_type": "code",
   "execution_count": 15,
   "id": "76ea60ff-b6c8-4b05-9b23-d8f7a12cb0f7",
   "metadata": {},
   "outputs": [],
   "source": [
    "X_train = pd.read_csv(data_path+\"X_train.csv\")\n",
    "X_val = pd.read_csv(data_path+\"X_val.csv\") \n",
    "y_val = pd.read_csv(data_path+\"y_val.csv\")"
   ]
  },
  {
   "cell_type": "code",
   "execution_count": 17,
   "id": "b455d51b-e4f0-4945-9a40-d71297605033",
   "metadata": {},
   "outputs": [
    {
     "name": "stderr",
     "output_type": "stream",
     "text": [
      "/tmp/ipykernel_924515/939154797.py:3: SettingWithCopyWarning: \n",
      "A value is trying to be set on a copy of a slice from a DataFrame.\n",
      "Try using .loc[row_indexer,col_indexer] = value instead\n",
      "\n",
      "See the caveats in the documentation: https://pandas.pydata.org/pandas-docs/stable/user_guide/indexing.html#returning-a-view-versus-a-copy\n",
      "  train_log['relevance'] = 1.0\n"
     ]
    }
   ],
   "source": [
    "train_log = X_train[[\"pav_order_id\", \"created\", \"item_id\"]]\n",
    "train_log.columns = [\"user_idx\", \"timestamp\", \"item_idx\"]\n",
    "train_log['relevance'] = 1.0"
   ]
  },
  {
   "cell_type": "code",
   "execution_count": 18,
   "id": "6b8f4128-3087-4bb3-a748-4d21d6f95f37",
   "metadata": {},
   "outputs": [],
   "source": [
    "train_log.to_parquet(\"./data/train_log.parquet\")"
   ]
  },
  {
   "cell_type": "code",
   "execution_count": 19,
   "id": "103a014b-0ba1-4bc1-a5ea-0a2413cbea44",
   "metadata": {},
   "outputs": [
    {
     "name": "stderr",
     "output_type": "stream",
     "text": [
      "/tmp/ipykernel_924515/3480247480.py:3: SettingWithCopyWarning: \n",
      "A value is trying to be set on a copy of a slice from a DataFrame.\n",
      "Try using .loc[row_indexer,col_indexer] = value instead\n",
      "\n",
      "See the caveats in the documentation: https://pandas.pydata.org/pandas-docs/stable/user_guide/indexing.html#returning-a-view-versus-a-copy\n",
      "  test_log_pred['relevance'] = 1.0\n"
     ]
    }
   ],
   "source": [
    "test_log_pred = X_val[[\"pav_order_id\", \"created\", \"item_id\"]]\n",
    "test_log_pred.columns = [\"user_idx\", \"timestamp\", \"item_idx\"]\n",
    "test_log_pred['relevance'] = 1.0"
   ]
  },
  {
   "cell_type": "code",
   "execution_count": 20,
   "id": "1771ffb9-de1d-42de-841b-65cd28b7163e",
   "metadata": {},
   "outputs": [],
   "source": [
    "test_log_pred.to_parquet(\"./data/test_log_pred.parquet\")"
   ]
  },
  {
   "cell_type": "code",
   "execution_count": 21,
   "id": "3a9701e9-5a9f-4042-80f0-40cecdc8b09b",
   "metadata": {},
   "outputs": [],
   "source": [
    "test_log_check = y_val[[\"pav_order_id\", \"created\", \"item_id\"]]\n",
    "test_log_check.columns = [\"user_idx\", \"timestamp\", \"item_idx\"]"
   ]
  },
  {
   "cell_type": "code",
   "execution_count": 22,
   "id": "f2c16abd-3c93-4ec5-9068-44a17346f015",
   "metadata": {},
   "outputs": [],
   "source": [
    "test_log_check.to_parquet(\"./data/test_log_check.parquet\")"
   ]
  },
  {
   "cell_type": "code",
   "execution_count": 26,
   "id": "faa5ee8d-8895-4840-a1cd-b5f523f376e4",
   "metadata": {},
   "outputs": [],
   "source": [
    "test_csv = pd.read_csv('./data/test.csv')"
   ]
  },
  {
   "cell_type": "code",
   "execution_count": 27,
   "id": "35d05f49-9ac7-4ab8-b68f-9740ae85cc97",
   "metadata": {},
   "outputs": [],
   "source": [
    "test_csv = test_csv[[\"pav_order_id\", \"created\", \"item_id\"]]\n",
    "test_csv.columns = [\"user_idx\", \"timestamp\", \"item_idx\"]\n",
    "test_csv.to_parquet(\"./data/test.parquet\")"
   ]
  },
  {
   "cell_type": "code",
   "execution_count": 28,
   "id": "7063efec-0908-4c35-8deb-73fc72f947c7",
   "metadata": {},
   "outputs": [
    {
     "data": {
      "text/plain": [
       "96"
      ]
     },
     "execution_count": 28,
     "metadata": {},
     "output_type": "execute_result"
    }
   ],
   "source": [
    "from gc import collect\n",
    "\n",
    "del train_log, test_log_pred, test_log_check, test_csv\n",
    "collect()"
   ]
  },
  {
   "cell_type": "markdown",
   "id": "b7949eb7-09a1-40a9-9913-f7fc33dd97d5",
   "metadata": {},
   "source": [
    "### Загрузка подготовленных данных"
   ]
  },
  {
   "cell_type": "code",
   "execution_count": 32,
   "id": "eb99dcca-7953-4421-94af-501635199cd2",
   "metadata": {},
   "outputs": [
    {
     "name": "stdout",
     "output_type": "stream",
     "text": [
      "CPU times: user 0 ns, sys: 2.15 ms, total: 2.15 ms\n",
      "Wall time: 204 ms\n"
     ]
    }
   ],
   "source": [
    "%%time\n",
    "\n",
    "train_log = spark.read.parquet(\"./data/train_log.parquet\")\n",
    "test_log_pred = spark.read.parquet(\"./data/test_log_pred.parquet\")\n",
    "test_log_check = spark.read.parquet(\"./data/test_log_check.parquet\")"
   ]
  },
  {
   "cell_type": "code",
   "execution_count": 33,
   "id": "66b8b94d-f2eb-4e1f-8d5b-901acaee3b41",
   "metadata": {},
   "outputs": [],
   "source": [
    "test = spark.read.parquet(\"./data/test.parquet\")"
   ]
  },
  {
   "cell_type": "code",
   "execution_count": 34,
   "id": "bfa7e992-c447-4d4b-bad8-64eca56ef84a",
   "metadata": {},
   "outputs": [],
   "source": [
    "united_log = train_log.union(test_log_pred.withColumn('relevance', sf.lit(1)))"
   ]
  },
  {
   "cell_type": "markdown",
   "id": "63d76615-305a-412b-af86-061801bde43a",
   "metadata": {},
   "source": [
    "###  Настройка метрик"
   ]
  },
  {
   "cell_type": "code",
   "execution_count": 37,
   "id": "28438724-8401-47be-9870-0e23fdb686e2",
   "metadata": {},
   "outputs": [],
   "source": [
    "metrics_dict = {\n",
    "        Recall(): 20,\n",
    "        NDCG(): 20,\n",
    "        MAP(): 20\n",
    "    }\n",
    "metrics_replay = Experiment(test_log_check, metrics_dict)"
   ]
  },
  {
   "cell_type": "markdown",
   "id": "6b096756-6fae-4500-ab8f-95b031c1cb8a",
   "metadata": {},
   "source": [
    "### Обучение модели KNN из RePlay"
   ]
  },
  {
   "cell_type": "code",
   "execution_count": 50,
   "id": "b086002f-2ea3-4419-aa25-d08eba3248c7",
   "metadata": {},
   "outputs": [
    {
     "name": "stderr",
     "output_type": "stream",
     "text": [
      "22/03/27 11:33:21 WARN CacheManager: Asked to cache already cached data.\n",
      "22/03/27 11:33:21 WARN CacheManager: Asked to cache already cached data.\n"
     ]
    },
    {
     "name": "stdout",
     "output_type": "stream",
     "text": [
      "CPU times: user 17.8 ms, sys: 0 ns, total: 17.8 ms\n",
      "Wall time: 418 ms\n"
     ]
    },
    {
     "name": "stderr",
     "output_type": "stream",
     "text": [
      "22/03/27 11:33:22 WARN CacheManager: Asked to cache already cached data.\n"
     ]
    }
   ],
   "source": [
    "%%time\n",
    "\n",
    "knn = KNN(num_neighbours=5)\n",
    "knn.fit(united_log)"
   ]
  },
  {
   "cell_type": "code",
   "execution_count": 53,
   "id": "c250281b-7783-435b-bea8-5c3d63ba613a",
   "metadata": {},
   "outputs": [
    {
     "name": "stderr",
     "output_type": "stream",
     "text": [
      "27-Mar-22 11:34:38, replay, WARNING: This model can't predict cold items, they will be ignored\n",
      "27-Mar-22 11:34:38, replay, WARNING: This model can't predict cold items, they will be ignored\n",
      "                                                                                \r"
     ]
    },
    {
     "data": {
      "text/plain": [
       "1155684"
      ]
     },
     "execution_count": 53,
     "metadata": {},
     "output_type": "execute_result"
    }
   ],
   "source": [
    "knn_preds = knn.predict(test_log_pred, 20, filter_seen_items=True)\n",
    "knn_preds.count()"
   ]
  },
  {
   "cell_type": "code",
   "execution_count": 54,
   "id": "7b32f01d-4b5f-4293-8fb1-2601e77c4004",
   "metadata": {},
   "outputs": [
    {
     "name": "stderr",
     "output_type": "stream",
     "text": [
      "                                                                                \r"
     ]
    }
   ],
   "source": [
    "metrics_replay.add_result('kNN_5', knn_preds)"
   ]
  },
  {
   "cell_type": "code",
   "execution_count": 55,
   "id": "038f4444-176d-4383-85d5-b5c4859b2c4a",
   "metadata": {},
   "outputs": [
    {
     "data": {
      "text/html": [
       "<div>\n",
       "<style scoped>\n",
       "    .dataframe tbody tr th:only-of-type {\n",
       "        vertical-align: middle;\n",
       "    }\n",
       "\n",
       "    .dataframe tbody tr th {\n",
       "        vertical-align: top;\n",
       "    }\n",
       "\n",
       "    .dataframe thead th {\n",
       "        text-align: right;\n",
       "    }\n",
       "</style>\n",
       "<table border=\"1\" class=\"dataframe\">\n",
       "  <thead>\n",
       "    <tr style=\"text-align: right;\">\n",
       "      <th></th>\n",
       "      <th>MAP@20</th>\n",
       "      <th>NDCG@20</th>\n",
       "      <th>Recall@20</th>\n",
       "    </tr>\n",
       "  </thead>\n",
       "  <tbody>\n",
       "    <tr>\n",
       "      <th>kNN_5</th>\n",
       "      <td>0.050006</td>\n",
       "      <td>0.121028</td>\n",
       "      <td>0.095974</td>\n",
       "    </tr>\n",
       "  </tbody>\n",
       "</table>\n",
       "</div>"
      ],
      "text/plain": [
       "         MAP@20   NDCG@20  Recall@20\n",
       "kNN_5  0.050006  0.121028   0.095974"
      ]
     },
     "execution_count": 55,
     "metadata": {},
     "output_type": "execute_result"
    }
   ],
   "source": [
    "metrics_replay.results"
   ]
  },
  {
   "cell_type": "markdown",
   "id": "83bf1f79-25b0-44d4-b382-5f0ea54e6a44",
   "metadata": {},
   "source": [
    "### Предсказание"
   ]
  },
  {
   "cell_type": "code",
   "execution_count": 46,
   "id": "2178e306-62a0-4a2b-a208-18fe9b000059",
   "metadata": {},
   "outputs": [
    {
     "name": "stderr",
     "output_type": "stream",
     "text": [
      "22/03/27 11:31:32 WARN CacheManager: Asked to cache already cached data.\n",
      "22/03/27 11:31:32 WARN CacheManager: Asked to cache already cached data.\n",
      "22/03/27 11:31:33 WARN CacheManager: Asked to cache already cached data.\n",
      "27-Mar-22 11:31:33, replay, WARNING: This model can't predict cold items, they will be ignored\n",
      "27-Mar-22 11:31:33, replay, WARNING: This model can't predict cold items, they will be ignored\n",
      "[Stage 285:========================>                           (136 + 97) / 288]\r"
     ]
    },
    {
     "name": "stdout",
     "output_type": "stream",
     "text": [
      "CPU times: user 63.6 ms, sys: 10.1 ms, total: 73.7 ms\n",
      "Wall time: 11.5 s\n"
     ]
    },
    {
     "name": "stderr",
     "output_type": "stream",
     "text": [
      "                                                                                \r"
     ]
    },
    {
     "data": {
      "text/plain": [
       "1603306"
      ]
     },
     "execution_count": 46,
     "metadata": {},
     "output_type": "execute_result"
    }
   ],
   "source": [
    "%%time\n",
    "\n",
    "knn = KNN(num_neighbours=5)\n",
    "knn.fit(united_log)\n",
    "test_preds = knn.predict(test, 20, filter_seen_items=True)\n",
    "test_preds.count()"
   ]
  },
  {
   "cell_type": "code",
   "execution_count": 47,
   "id": "320db708-459a-43d6-b099-61b20d79fca9",
   "metadata": {},
   "outputs": [
    {
     "name": "stderr",
     "output_type": "stream",
     "text": [
      "                                                                                \r"
     ]
    }
   ],
   "source": [
    "test_preds_df = test_preds.toPandas()"
   ]
  },
  {
   "cell_type": "code",
   "execution_count": 49,
   "id": "1c4c12fb-37aa-475f-94bd-b13ea42e36d5",
   "metadata": {},
   "outputs": [],
   "source": [
    "(test_preds_df[[\"user_idx\", \"item_idx\"]]\n",
    "    .groupby(\"user_idx\")\n",
    "    .agg({'item_idx': lambda x: x.tolist()})\n",
    "    .reset_index().to_csv(\"res_top.csv\", index=None, header=[\"pav_order_id\",\"preds\"]))"
   ]
  },
  {
   "cell_type": "code",
   "execution_count": null,
   "id": "19cec8fa-2f43-4fa0-9eee-4623cf04148f",
   "metadata": {},
   "outputs": [],
   "source": []
  }
 ],
 "metadata": {
  "kernelspec": {
   "display_name": "Python 3 (ipykernel)",
   "language": "python",
   "name": "python3"
  },
  "language_info": {
   "codemirror_mode": {
    "name": "ipython",
    "version": 3
   },
   "file_extension": ".py",
   "mimetype": "text/x-python",
   "name": "python",
   "nbconvert_exporter": "python",
   "pygments_lexer": "ipython3",
   "version": "3.8.10"
  }
 },
 "nbformat": 4,
 "nbformat_minor": 5
}
